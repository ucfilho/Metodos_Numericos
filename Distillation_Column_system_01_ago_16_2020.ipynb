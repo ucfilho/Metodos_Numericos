{
  "nbformat": 4,
  "nbformat_minor": 0,
  "metadata": {
    "colab": {
      "name": "Distillation_Column_system_01_ago_16_2020.ipynb",
      "provenance": [],
      "collapsed_sections": [],
      "authorship_tag": "ABX9TyMIVTg6G2GqRoBX3x8EtMNe",
      "include_colab_link": true
    },
    "kernelspec": {
      "name": "python3",
      "display_name": "Python 3"
    }
  },
  "cells": [
    {
      "cell_type": "markdown",
      "metadata": {
        "id": "view-in-github",
        "colab_type": "text"
      },
      "source": [
        "<a href=\"https://colab.research.google.com/github/ucfilho/Metodos_Numericos/blob/master/Distillation_Column_system_01_ago_16_2020.ipynb\" target=\"_parent\"><img src=\"https://colab.research.google.com/assets/colab-badge.svg\" alt=\"Open In Colab\"/></a>"
      ]
    },
    {
      "cell_type": "code",
      "metadata": {
        "id": "rUWbLeTxhvU6",
        "colab_type": "code",
        "colab": {}
      },
      "source": [
        "import numpy as np\n",
        "import numpy.linalg as nl"
      ],
      "execution_count": 1,
      "outputs": []
    },
    {
      "cell_type": "code",
      "metadata": {
        "id": "MKWB_5wGkPua",
        "colab_type": "code",
        "colab": {}
      },
      "source": [
        "'''\n",
        "Distillation are used to separate a mix of compounds based on different their different boiling temperature. \n",
        "\n",
        "The mathematical modeling of such process involve 1000’s of non linear equations. Let us\n",
        "explore a simplification of this model that is illustrated in figure 3.2. In this example the input mixture\n",
        "contains three compounds: 30 kg/s of methane (M), 25 kg/s of ethane(E) and 10 kg/s of propane(P).\n",
        "The input mixture is separated in three out flow streams: the overhead that is rich in methane (90\n",
        "%), the middle stream rich in ethane (50 %) and the bottom flow rich in propane (70 %). The figure\n",
        "contains additional information about the mass fraction of each flow, noted xi and the total mass flow\n",
        "rates of each stream given in kg/s and noted mi\n",
        "'''"
      ],
      "execution_count": null,
      "outputs": []
    },
    {
      "cell_type": "code",
      "metadata": {
        "id": "o3OFxdPbhQ-A",
        "colab_type": "code",
        "colab": {
          "base_uri": "https://localhost:8080/",
          "height": 72
        },
        "outputId": "230370d7-3e2d-4109-84ee-6c68160f2c09"
      },
      "source": [
        "# create the matrix A\n",
        "A = np. array ([[0.9 ,0.3 ,0.1] ,[0.1 ,0.5 ,0.2] , [0.0 ,0.2 ,0.7]])\n",
        "\n",
        "# create the right-hand side\n",
        "feed = np. array ([30.0 ,25.0 ,10.0])\n",
        "\n",
        "# solve the linear system with np.solve()\n",
        "x = nl.solve(A,feed)\n",
        "\n",
        "# print the solution\n",
        "print(x)\n",
        "\n",
        "# check the solution\n",
        "check_sol = np.dot(A,x)\n",
        "print(check_sol) \n",
        "print(feed) \n"
      ],
      "execution_count": 2,
      "outputs": [
        {
          "output_type": "stream",
          "text": [
            "[17.88461538 45.96153846  1.15384615]\n",
            "[30. 25. 10.]\n",
            "[30. 25. 10.]\n"
          ],
          "name": "stdout"
        }
      ]
    }
  ]
}