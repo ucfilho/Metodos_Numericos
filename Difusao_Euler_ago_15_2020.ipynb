{
  "nbformat": 4,
  "nbformat_minor": 0,
  "metadata": {
    "colab": {
      "name": "Difusao_Euler_ago_15_2020.ipynb",
      "provenance": [],
      "authorship_tag": "ABX9TyN2yhaNGYbeR1ZR8X4sLAIv",
      "include_colab_link": true
    },
    "kernelspec": {
      "name": "python3",
      "display_name": "Python 3"
    }
  },
  "cells": [
    {
      "cell_type": "markdown",
      "metadata": {
        "id": "view-in-github",
        "colab_type": "text"
      },
      "source": [
        "<a href=\"https://colab.research.google.com/github/ucfilho/Metodos_Numericos/blob/master/Difusao_Euler_ago_15_2020.ipynb\" target=\"_parent\"><img src=\"https://colab.research.google.com/assets/colab-badge.svg\" alt=\"Open In Colab\"/></a>"
      ]
    },
    {
      "cell_type": "code",
      "metadata": {
        "id": "Py8br8AQL0oE",
        "colab_type": "code",
        "colab": {}
      },
      "source": [
        "import numpy as np\n",
        "\n",
        "# size of the grids\n",
        "MX = 16\n",
        "nT = 201\n",
        "\n",
        "# spatial coordinate\n",
        "X = np.linspace(0,1,MX)\n",
        "h = X[1]-X[0]\n",
        "\n",
        "#temporal coordinate\n",
        "t0, tmax = 0.0, 50.0\n",
        "T = np.linspace(t0,tmax,nT)\n",
        "dT = T[1]-T[0]\n",
        "\n",
        "# diffusion coefficient\n",
        "D = 1*1E-2\n",
        "Dh2 = D/(h**2)\n",
        "\n",
        "# initial condition\n",
        "c0 = np.ones(MX)\n",
        "c0[0] = 0.0\n",
        "\n",
        "# declare the solution arrat\n",
        "c1 = np.zeros(MX)"
      ],
      "execution_count": null,
      "outputs": []
    },
    {
      "cell_type": "code",
      "metadata": {
        "id": "Ss5v8dR0Mb2I",
        "colab_type": "code",
        "colab": {}
      },
      "source": [
        "# loop over the time\n",
        "for n in range(1,nT):\n",
        "  # Dirichlet BC\n",
        "  c1[0] = 0.0\n",
        "\n",
        "  for iX in range(1,MX-1):\n",
        "    c1[iX] = c0[iX] + dT*Dh2 * (c0[iX+1]-2.0*c0[iX]+c0[iX-1])\n",
        "    # Neumann BC\n",
        "    c1[-1] = c1[-2]\n",
        "\n",
        "    # iterate\n",
        "    c0 = c1"
      ],
      "execution_count": null,
      "outputs": []
    }
  ]
}