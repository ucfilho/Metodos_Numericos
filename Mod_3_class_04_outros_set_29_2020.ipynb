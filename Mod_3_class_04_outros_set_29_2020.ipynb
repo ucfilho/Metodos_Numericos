{
  "nbformat": 4,
  "nbformat_minor": 0,
  "metadata": {
    "colab": {
      "name": "Mod_3_class_04_outros_set_29_2020.ipynb",
      "provenance": [],
      "authorship_tag": "ABX9TyMIRd1EFBuKA1qO4NjviChw",
      "include_colab_link": true
    },
    "kernelspec": {
      "name": "python3",
      "display_name": "Python 3"
    }
  },
  "cells": [
    {
      "cell_type": "markdown",
      "metadata": {
        "id": "view-in-github",
        "colab_type": "text"
      },
      "source": [
        "<a href=\"https://colab.research.google.com/github/ucfilho/Numeric_Methods_ChemEng/blob/master/Mod_3_class_04_outros_set_29_2020.ipynb\" target=\"_parent\"><img src=\"https://colab.research.google.com/assets/colab-badge.svg\" alt=\"Open In Colab\"/></a>"
      ]
    },
    {
      "cell_type": "code",
      "metadata": {
        "id": "ZaS3YTX8K_hT"
      },
      "source": [
        "import numpy as np\n",
        "import matplotlib.pyplot as plt\n",
        "from scipy.integrate import odeint\n"
      ],
      "execution_count": 1,
      "outputs": []
    },
    {
      "cell_type": "code",
      "metadata": {
        "id": "0wDpoKtRMZUI"
      },
      "source": [
        "# http://math.oit.edu/~paulr/Upper/Math_45x/Math_452/multistep.pdf"
      ],
      "execution_count": 2,
      "outputs": []
    },
    {
      "cell_type": "code",
      "metadata": {
        "id": "pT1p5uLPJvkK"
      },
      "source": [
        "#Runge-Kutta \"Classic\" Order 4 method\n",
        "def RK4(t0,tn,n,y0):\n",
        "  h = abs(tn-t0)/n\n",
        "  t = np.linspace(t0,tn,n+1)\n",
        "  y = np.zeros(n+1)\n",
        "  y[0] = y0\n",
        "  for i in range(0,n):\n",
        "    K1 = f(t[i],y[i])\n",
        "    K2 = f(t[i]+h/2,y[i]+K1*h/2)\n",
        "    K3 = f(t[i]+h/2,y[i]+K2*h/2)\n",
        "    K4 = f(t[i]+h,y[i]+K3*h)\n",
        "    y[i+1] = y[i] + h*(K1+2*K2+2*K3+K4)/6\n",
        "  return y\n",
        "\n",
        "\n",
        "\n",
        "\n",
        "#Adams-Bashforth 3 Step Method\n",
        "def AdBash3(t0,tn,n,y0):\n",
        "  h = abs(tn-t0)/n\n",
        "  t = np.linspace(t0,tn,n+1)\n",
        "  y = np.zeros(n+1)\n",
        "  y[0:3] = RK4(t0,t0+2*h,2,y0)\n",
        "  K1 = f(t[1],y[1])\n",
        "  K2 = f(t[0],y[0])\n",
        "  for i in range(2,n):\n",
        "    K3 = K2\n",
        "    K2 = K1\n",
        "    K1 = f(t[i],y[i])\n",
        "    y[i+1] = y[i] + h*(23*K1-16*K2+5*K3)/12\n",
        "  return y\n",
        "#Adams-Bashforth 3/Moulton 4 Step Predictor/Corrector\n",
        "def PreCorr3(t0,tn,n,y0):\n",
        "  h = abs(tn-t0)/n\n",
        "  t = np.linspace(t0,tn,n+1)\n",
        "  y = np.zeros(n+1)\n",
        "  #Calculate initial steps with Runge-Kutta 4\n",
        "  y[0:3] = RK4(t0,t0+2*h,2,y0)\n",
        "  K1 = f(t[1],y[1])\n",
        "  K2 = f(t[0],y[0])\n",
        "  for i in range(2,n):\n",
        "    K3 = K2\n",
        "    K2 = K1\n",
        "    K1 = f(t[i],y[i])\n",
        "  #Adams-Bashforth Predictor\n",
        "  y[i+1] = y[i] + h*(23*K1-16*K2+5*K3)/12\n",
        "  K0 = f(t[i+1],y[i+1])\n",
        "  #Adams-Moulton Corrector\n",
        "  y[i+1] = y[i] + h*(9*K0+19*K1-5*K2+K3)/24\n",
        "  return y"
      ],
      "execution_count": 3,
      "outputs": []
    },
    {
      "cell_type": "code",
      "metadata": {
        "id": "BAIYO2jjNW5Z"
      },
      "source": [
        ""
      ],
      "execution_count": 3,
      "outputs": []
    },
    {
      "cell_type": "code",
      "metadata": {
        "id": "1pwVl1moKwF5"
      },
      "source": [
        "def f( x, t ):\n",
        "  return np.sin( t )\n",
        "\n",
        "a, b = ( 0.0, 10.0 )\n",
        "x0 = -1.0\n",
        "\n",
        "n = 200\n",
        "t = np.linspace( a, b, n )\n",
        "tol = 1e-6\n",
        "fg =1\n",
        "n = n-1\n",
        "t0 = 0\n",
        "tn = 6\n",
        "y0 = 0\n",
        "\n",
        "ye = AdBash3(t0,tn,n,y0)\n",
        "ypc = PreCorr3(t0,tn,n,y0)\n",
        "yrk=RK4(t0,tn,n,y0)\n",
        "xsci_py = odeint(f, y0, t)"
      ],
      "execution_count": 4,
      "outputs": []
    },
    {
      "cell_type": "code",
      "metadata": {
        "id": "SNeWlMCgLkCR"
      },
      "source": [
        "# compute true solution values in equal spaced and unequally spaced cases\n",
        "#x = -np.exp( 1.0 - np.cos( t ) )\n",
        "x=-np.cos(t)"
      ],
      "execution_count": 5,
      "outputs": []
    },
    {
      "cell_type": "code",
      "metadata": {
        "id": "LDC9BAxuLJem",
        "outputId": "6816865c-2801-4df5-e1f6-7f220f05167f",
        "colab": {
          "base_uri": "https://localhost:8080/",
          "height": 282
        }
      },
      "source": [
        "#plt.plot(t,ypc)\n",
        "#plt.plot(t,ye)\n",
        "#plt.plot(t,yrk)\n",
        "plt.plot(t,xsci_py)\n",
        "plt.plot(t,x)"
      ],
      "execution_count": 6,
      "outputs": [
        {
          "output_type": "execute_result",
          "data": {
            "text/plain": [
              "[<matplotlib.lines.Line2D at 0x7f39f78d1940>]"
            ]
          },
          "metadata": {
            "tags": []
          },
          "execution_count": 6
        },
        {
          "output_type": "display_data",
          "data": {
            "image/png": "[encoded data removed]",
            "text/plain": [
              "<Figure size 432x288 with 1 Axes>"
            ]
          },
          "metadata": {
            "tags": [],
            "needs_background": "light"
          }
        }
      ]
    }
  ]
}