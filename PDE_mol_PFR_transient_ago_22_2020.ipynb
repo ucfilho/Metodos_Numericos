{
 "cells": [
  {
   "cell_type": "code",
   "execution_count": 1,
   "metadata": {},
   "outputs": [],
   "source": [
    "import numpy as np\n",
    "from scipy.integrate import odeint\n",
    "import matplotlib.pyplot as plt"
   ]
  },
  {
   "cell_type": "code",
   "execution_count": 2,
   "metadata": {},
   "outputs": [],
   "source": [
    "Ca0 = 2     # Entering concentration\n",
    "vo = 2      # volumetric flow rate\n",
    "volume = 20 # total volume of reactor, spacetime = 10\n",
    "k = 1       # reaction rate constant\n",
    "\n",
    "N = 100     # number of points to discretize the reactor volume on\n",
    "\n",
    "init = np.zeros(N)    # Concentration in reactor at t = 0\n",
    "init[0] = Ca0         # concentration at entrance\n",
    "\n",
    "V = np.linspace(0, volume, N) # discretized volume elements\n",
    "tspan = np.linspace(0, 25)    # time span to integrate over\n",
    "\n",
    "def method_of_lines(C, t):\n",
    "    'coupled ODES at each node point'\n",
    "    D = -vo * np.diff(C) / np.diff(V) - k * C[1:]**2\n",
    "    return np.concatenate([[0], #C0 is constant at entrance\n",
    "                            D])\n",
    "\n",
    "sol = odeint(method_of_lines, init, tspan)\n",
    "\n",
    "# steady state solution\n",
    "def pfr(C, V):\n",
    "    return 1.0 / vo * (-k * C**2)\n",
    "\n",
    "ssol = odeint(pfr, Ca0, V)"
   ]
  },
  {
   "cell_type": "code",
   "execution_count": 3,
   "metadata": {},
   "outputs": [
    {
     "data": {
      "image/png": "[encoded data removed]",
      "text/plain": [
       "<Figure size 432x288 with 1 Axes>"
      ]
     },
     "metadata": {
      "needs_background": "light"
     },
     "output_type": "display_data"
    }
   ],
   "source": [
    "\n",
    "plt.plot(tspan, sol[:, -1])\n",
    "plt.xlabel('time')\n",
    "plt.ylabel('$C_A$ at exit')\n",
    "plt.savefig('transient-pfr-1.png')"
   ]
  }
 ],
 "metadata": {
  "kernelspec": {
   "display_name": "Python 3",
   "language": "python",
   "name": "python3"
  },
  "language_info": {
   "codemirror_mode": {
    "name": "ipython",
    "version": 3
   },
   "file_extension": ".py",
   "mimetype": "text/x-python",
   "name": "python",
   "nbconvert_exporter": "python",
   "pygments_lexer": "ipython3",
   "version": "3.8.3"
  }
 },
 "nbformat": 4,
 "nbformat_minor": 4
}
