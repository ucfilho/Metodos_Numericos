{
  "nbformat": 4,
  "nbformat_minor": 0,
  "metadata": {
    "colab": {
      "name": "MOD_03_CLASS_01_NonLinear_Equation_Python_ago_03_2020.ipynb",
      "provenance": [],
      "collapsed_sections": [],
      "authorship_tag": "ABX9TyNHdBqB+LZIcwwk+c6lmkkl",
      "include_colab_link": true
    },
    "kernelspec": {
      "name": "python3",
      "display_name": "Python 3"
    }
  },
  "cells": [
    {
      "cell_type": "markdown",
      "metadata": {
        "id": "view-in-github",
        "colab_type": "text"
      },
      "source": [
        "<a href=\"https://colab.research.google.com/github/ucfilho/Metodos_Numericos/blob/master/MOD_03_CLASS_01_NonLinear_Equation_Python_ago_03_2020.ipynb\" target=\"_parent\"><img src=\"https://colab.research.google.com/assets/colab-badge.svg\" alt=\"Open In Colab\"/></a>"
      ]
    },
    {
      "cell_type": "code",
      "metadata": {
        "id": "Af7mQ67L5gn8",
        "colab_type": "code",
        "colab": {}
      },
      "source": [
        "import numpy as np"
      ],
      "execution_count": 1,
      "outputs": []
    },
    {
      "cell_type": "code",
      "metadata": {
        "id": "VQWgv0jH5_pp",
        "colab_type": "code",
        "colab": {}
      },
      "source": [
        "# https://www.it-swarm.dev/pt/python/como-resolver-um-par-de-equacoes-nao-lineares-usando-python/940823315/"
      ],
      "execution_count": null,
      "outputs": []
    },
    {
      "cell_type": "code",
      "metadata": {
        "id": "HRXnXd4U3ePB",
        "colab_type": "code",
        "colab": {
          "base_uri": "https://localhost:8080/",
          "height": 35
        },
        "outputId": "0c174a4f-ab39-48b1-ffc3-acd405cd726d"
      },
      "source": [
        "from scipy.optimize import fsolve\n",
        "import math\n",
        "\n",
        "def equations(p):\n",
        "    x, y = p\n",
        "    return (x+y**2-4, math.exp(x) + x*y - 3)\n",
        "\n",
        "x, y =  fsolve(equations, (1, 1))\n",
        "\n",
        "print(equations((x, y)))"
      ],
      "execution_count": 2,
      "outputs": [
        {
          "output_type": "stream",
          "text": [
            "(4.4508396968012676e-11, -1.0512035686360832e-11)\n"
          ],
          "name": "stdout"
        }
      ]
    },
    {
      "cell_type": "code",
      "metadata": {
        "id": "Hug_5a-y3js4",
        "colab_type": "code",
        "colab": {
          "base_uri": "https://localhost:8080/",
          "height": 54
        },
        "outputId": "d5007260-2b44-46c6-8bb9-62b83ab12f45"
      },
      "source": [
        "from scipy.optimize import fsolve\n",
        "\n",
        "def double_solve(f1,f2,x0,y0):\n",
        "    func = lambda x: [f1(x[0], x[1]), f2(x[0], x[1])]\n",
        "    return fsolve(func,[x0,y0])\n",
        "\n",
        "def n_solve(functions,variables):\n",
        "    func = lambda x: [ f(*x) for f in functions]\n",
        "    return fsolve(func, variables)\n",
        "\n",
        "f1 = lambda x,y : x**2+y**2-1\n",
        "f2 = lambda x,y : x-y\n",
        "\n",
        "res = double_solve(f1,f2,1,0)\n",
        "print('res1', res)\n",
        "res = n_solve([f1,f2],[1.0,0.0])\n",
        "print('res2',res)\n",
        "\n"
      ],
      "execution_count": 3,
      "outputs": [
        {
          "output_type": "stream",
          "text": [
            "res1 [0.70710678 0.70710678]\n",
            "res2 [0.70710678 0.70710678]\n"
          ],
          "name": "stdout"
        }
      ]
    },
    {
      "cell_type": "code",
      "metadata": {
        "id": "SbdmS0C73wS3",
        "colab_type": "code",
        "colab": {}
      },
      "source": [
        "import scipy.optimize as opt\n",
        "    from numpy import exp\n",
        "    import timeit\n",
        "\n",
        "    st1 = timeit.default_timer()\n",
        "\n",
        "    def f(variables) :\n",
        "        (x,y) = variables\n",
        "\n",
        "        first_eq = x + y**2 -4\n",
        "        second_eq = exp(x) + x*y - 3\n",
        "        return [first_eq, second_eq]\n",
        "\n",
        "    solution = opt.fsolve(f, (0.1,1) )\n",
        "    print(solution)\n",
        "\n",
        "\n",
        "    st2 = timeit.default_timer()\n",
        "    print(\"RUN TIME : {0}\".format(st2-st1))\n"
      ],
      "execution_count": null,
      "outputs": []
    },
    {
      "cell_type": "code",
      "metadata": {
        "id": "n-LaXavF4EuW",
        "colab_type": "code",
        "colab": {}
      },
      "source": [
        "from scipy.optimize import fsolve\n",
        "\n",
        "def double_solve(f1,f2,x0,y0):\n",
        "    func = lambda x: [f1(x[0], x[1]), f2(x[0], x[1])]\n",
        "    return fsolve(func,[x0,y0])\n",
        "\n",
        "def n_solve(functions,variables):\n",
        "    func = lambda x: [ f(*x) for f in functions]\n",
        "    return fsolve(func, variables)\n",
        "\n",
        "f1 = lambda x,y : x**2+y**2-1\n",
        "f2 = lambda x,y : x-y\n",
        "\n",
        "res = double_solve(f1,f2,1,0)\n",
        "res = n_solve([f1,f2],[1.0,0.0])"
      ],
      "execution_count": null,
      "outputs": []
    }
  ]
}