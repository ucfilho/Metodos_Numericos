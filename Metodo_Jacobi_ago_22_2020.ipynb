{
 "cells": [
  {
   "cell_type": "code",
   "execution_count": 1,
   "metadata": {},
   "outputs": [],
   "source": [
    "import numpy\n",
    "import numpy.linalg as nl"
   ]
  },
  {
   "cell_type": "code",
   "execution_count": 2,
   "metadata": {},
   "outputs": [],
   "source": [
    "def jacobi(A,f,x,maxIter = 100, tol = 1.0e-4):\n",
    "    # inputs:\n",
    "    # A is a nxn matrix\n",
    "    # f is a right-hand-side vector of length n\n",
    "    # x is initial guess at the solution to A x = f\n",
    "    # maxIter (optional) is maximum iterations\n",
    "    # tol (optional) is desired accuracy in terms\n",
    "    # of the L2-norm of the residual (= f - Ax)\n",
    "    n = f.size\n",
    "    # Begin by checking for compatible sizes\n",
    "    if (A.shape[0] != n or A.shape[1] != n):\n",
    "        print(\"Error! Incompatible sizes.\")\n",
    "        return f\n",
    "    # Loop to iterate until we converge to solution\n",
    "    # or we reach the maximum number of iterations\n",
    "    xnew = numpy.copy(x)\n",
    "    for iter in range(maxIter):\n",
    "        # calculate residual\n",
    "        res = f - numpy.dot(A,x)\n",
    "        # check L2-norm for convergence\n",
    "        if (nl.norm(res,2) < tol):\n",
    "            print(\"Converged after\", iter,\"iterations \")\n",
    "            return x\n",
    "        # start of Jacobi iteration\n",
    "        for i in range(n):\n",
    "            sum=0.0\n",
    "            for j in range(n):\n",
    "                if(i != j):\n",
    "                    sum += A[i,j]*x[j]\n",
    "            xnew[i] = (f[i] - sum)/A[i,i]\n",
    "        x = numpy.copy(xnew)\n",
    "        print('Failed to converge after', iter,'iterations')\n",
    "    return x"
   ]
  },
  {
   "cell_type": "code",
   "execution_count": 3,
   "metadata": {},
   "outputs": [
    {
     "name": "stdout",
     "output_type": "stream",
     "text": [
      "Failed to converge after 0 iterations\n",
      "Failed to converge after 1 iterations\n",
      "Failed to converge after 2 iterations\n",
      "Failed to converge after 3 iterations\n",
      "Failed to converge after 4 iterations\n",
      "Failed to converge after 5 iterations\n",
      "Failed to converge after 6 iterations\n",
      "Failed to converge after 7 iterations\n",
      "Failed to converge after 8 iterations\n",
      "Failed to converge after 9 iterations\n",
      "Failed to converge after 10 iterations\n",
      "Failed to converge after 11 iterations\n",
      "Failed to converge after 12 iterations\n",
      "Failed to converge after 13 iterations\n",
      "Converged after 14 iterations \n",
      "[17.88463542 45.96143188  1.1538801 ]\n"
     ]
    }
   ],
   "source": [
    "A = numpy.array([[0.9, 0.3, 0.1], [0.1,0.5,0.2],\n",
    "[0.0,0.2,0.7]])\n",
    "f = numpy.array([30.0,25.0,10.0])\n",
    "x = numpy.array([20.0, 20.0, 20.0])\n",
    "sol = jacobi(A,f,x)\n",
    "print(sol)"
   ]
  }
 ],
 "metadata": {
  "kernelspec": {
   "display_name": "Python 3",
   "language": "python",
   "name": "python3"
  },
  "language_info": {
   "codemirror_mode": {
    "name": "ipython",
    "version": 3
   },
   "file_extension": ".py",
   "mimetype": "text/x-python",
   "name": "python",
   "nbconvert_exporter": "python",
   "pygments_lexer": "ipython3",
   "version": "3.8.3"
  }
 },
 "nbformat": 4,
 "nbformat_minor": 4
}
