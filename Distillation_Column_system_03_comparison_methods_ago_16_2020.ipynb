{
  "nbformat": 4,
  "nbformat_minor": 0,
  "metadata": {
    "colab": {
      "name": "Distillation_Column_system_03_comparison_methods_ago_16_2020.ipynb",
      "provenance": [],
      "collapsed_sections": [],
      "authorship_tag": "ABX9TyPI6m9WybbeqMNX2p8WKbfU",
      "include_colab_link": true
    },
    "kernelspec": {
      "name": "python3",
      "display_name": "Python 3"
    }
  },
  "cells": [
    {
      "cell_type": "markdown",
      "metadata": {
        "id": "view-in-github",
        "colab_type": "text"
      },
      "source": [
        "<a href=\"https://colab.research.google.com/github/ucfilho/Metodos_Numericos/blob/master/Distillation_Column_system_03_comparison_methods_ago_16_2020.ipynb\" target=\"_parent\"><img src=\"https://colab.research.google.com/assets/colab-badge.svg\" alt=\"Open In Colab\"/></a>"
      ]
    },
    {
      "cell_type": "code",
      "metadata": {
        "id": "remAkX_qlBLr",
        "colab_type": "code",
        "colab": {}
      },
      "source": [
        "import numpy as np\n",
        "import time\n",
        "import matplotlib.pyplot as plt\n",
        "import numpy.linalg as npla\n",
        "\n",
        "\n",
        "########################################################\n",
        "# Function to decompose the matrix\n",
        "# in an upper triangular form\n",
        "########################################################\n",
        "\n",
        "def LU(A,f):\n",
        "  # get the size of the system\n",
        "  n = len(f)\n",
        "  \n",
        "  # check the size\n",
        "  \n",
        "  if (A.shape[0] != n) or (A.shape[1] != n):\n",
        "    print('\\t Inconsistent size in LU decomposition')\n",
        "    info = 0\n",
        "    return M,info\n",
        "\n",
        "  # create the augmented matrix\n",
        "  M = np.zeros((n,n+1))\n",
        "  M[:,:-1] = A\n",
        "  M[:,-1] = f\n",
        "\n",
        "  # loop through all the colum\n",
        "  # to get rid of the lower part\n",
        "  for iC in range(n-1):\n",
        "    # for each column loop over all the lines\n",
        "    # that are below the diagonal\n",
        "    # to set to 0 their elements\n",
        "    for iL in range(iC+1,n):\n",
        "      # check if the diagonal element\n",
        "      # is null\n",
        "      if(M[iC,iC] == 0):\n",
        "        print('\\t Zero on the diagonal, LU failed')\n",
        "        info = 0\n",
        "        return M,info\n",
        "      # eliminate the element\n",
        "      M[iL,:] = M[iL,:] - M[iL,iC]/M[iC,iC] * M[iC,:]\n",
        "\n",
        "   # if we succed we return info = 1 and the upper augmetned matrix\n",
        "\n",
        "  info = 1\n",
        "  return M,info\n",
        "      "
      ],
      "execution_count": 1,
      "outputs": []
    },
    {
      "cell_type": "code",
      "metadata": {
        "id": "dBfKB-QKm-91",
        "colab_type": "code",
        "colab": {}
      },
      "source": [
        "########################################################\n",
        "# Function to backsubstitute the results\n",
        "# and get the final solution\n",
        "########################################################\n",
        "def BS(M):\n",
        "  # get the size of the matrix\n",
        "  n = M.shape[0]\n",
        "  # loop over all the lines\n",
        "  # starting by the end\n",
        "  for iL in range(n-1,-1,-1):\n",
        "    # check if we have diagonal elements on the diagonal\n",
        "    if(M[iL,iL] == 0):\n",
        "      print('\\t Zero on the diagonal, LU failed')\n",
        "      info = 0\n",
        "      return M,info\n",
        "    # divide the line by the diagonal element of M\n",
        "    M[iL,:] /= M[iL,iL]\n",
        "    \n",
        "    # loop over all the lines that are above this onef\n",
        "    for iLL in range(iL-1,-1,-1):\n",
        "      M[iLL,:] -= M[iLL,iL]*M[iL,:]\n",
        "\n",
        "  info = 1\n",
        "  return M,info\n",
        "\n",
        "########################################################\n",
        "########################################################"
      ],
      "execution_count": 2,
      "outputs": []
    },
    {
      "cell_type": "code",
      "metadata": {
        "id": "nQAUrcZ7nwbu",
        "colab_type": "code",
        "colab": {
          "base_uri": "https://localhost:8080/",
          "height": 284
        },
        "outputId": "87fc5f87-03e3-4038-a48d-6bc78a728024"
      },
      "source": [
        "# size of the matrix to be calculated\n",
        "SIZE = [10,50,100,500,1000]\n",
        "\n",
        "# create list\n",
        "cpu_time_numpy = []\n",
        "cpu_time_mycode = []\n",
        "\n",
        "# loop over the size\n",
        "for size in SIZE :\n",
        "  # create the system\n",
        "  A = np.random.rand(size,size)\n",
        "  f = np.random.rand(size)\n",
        "\n",
        "  # nummpy\n",
        "  t0 = time.clock()\n",
        "  npla.solve(A,f)\n",
        "  cpu_time_numpy.append(time.clock()-t0)\n",
        "\n",
        "  # mycode\n",
        "  t0 = time.clock()\n",
        "  M,info = LU(A,f)\n",
        "  M,info = BS(M)\n",
        "  cpu_time_mycode.append(time.clock()-t0)\n",
        "\n",
        "# plot the results\n",
        "plt.semilogy(SIZE,cpu_time_numpy,'o-',linewidth=3, color='black',label='Numpy')\n",
        "plt.semilogy(SIZE,cpu_time_mycode, 'o-',linewidth=4, color='blue',label='My code')\n",
        "plt.xlabel('Size of the system')\n",
        "plt.ylabel('Computation Time')\n",
        "plt.xlim([0,1250])\n",
        "plt.show()\n"
      ],
      "execution_count": 3,
      "outputs": [
        {
          "output_type": "display_data",
          "data": {
            "image/png": "[encoded data removed]",
            "text/plain": [
              "<Figure size 432x288 with 1 Axes>"
            ]
          },
          "metadata": {
            "tags": [],
            "needs_background": "light"
          }
        }
      ]
    }
  ]
}