{
  "nbformat": 4,
  "nbformat_minor": 0,
  "metadata": {
    "colab": {
      "name": "Difusao_Crank_Nicolson_ago_15_2020.ipynb",
      "provenance": [],
      "authorship_tag": "ABX9TyP/7mHvUO+35JxuwDF4EqMf",
      "include_colab_link": true
    },
    "kernelspec": {
      "name": "python3",
      "display_name": "Python 3"
    }
  },
  "cells": [
    {
      "cell_type": "markdown",
      "metadata": {
        "id": "view-in-github",
        "colab_type": "text"
      },
      "source": [
        "<a href=\"https://colab.research.google.com/github/ucfilho/Metodos_Numericos/blob/master/Difusao_Crank_Nicolson_ago_15_2020.ipynb\" target=\"_parent\"><img src=\"https://colab.research.google.com/assets/colab-badge.svg\" alt=\"Open In Colab\"/></a>"
      ]
    },
    {
      "cell_type": "code",
      "metadata": {
        "id": "Ss5v8dR0Mb2I",
        "colab_type": "code",
        "colab": {
          "base_uri": "https://localhost:8080/",
          "height": 74
        },
        "outputId": "39802f13-42e9-4749-d03b-22efba25ed1c"
      },
      "source": [
        "import numpy as np\n",
        "import scipy.sparse as sp\n",
        "from scipy.sparse.linalg import spsolve\n",
        "import matplotlib.pyplot as plt\n",
        "\n",
        "\n",
        "# size of the grids\n",
        "MX = 16\n",
        "nT = 201\n",
        "\n",
        "# spatial coordinate\n",
        "\n",
        "X = np.linspace(0,1,MX)\n",
        "h = X[1]-X[0]\n",
        "\n",
        "#temporal coordinate\n",
        "t0, tmax = 0.0, 50.0\n",
        "T = np.linspace(t0,tmax,nT)\n",
        "dT = T[1]-T[0]\n",
        "\n",
        "# diffusion coefficient\n",
        "D = 1*1E-2\n",
        "r = D*dT/(h**2)\n",
        "\n",
        "# initial condition\n",
        "c0 = np.ones(MX)\n",
        "c0[0] = 0.0\n",
        "\n",
        "# declare the solution arrat\n",
        "c1 = np.zeros(MX)\n",
        "\n",
        "\n",
        "\n",
        "# Matrix for the linear system\n",
        "A = sp.lil_matrix((MX,MX))\n",
        "b = np.zeros(MX)\n",
        "\n",
        "# Dirichlet BC\n",
        "A[0,0] = 1.0\n",
        "b[0] = 0.0\n",
        "\n",
        "# Neuman BC\n",
        "A[-1,-2] = -1\n",
        "A[-1,-1] = 1\n",
        "b[-1] = 0.0\n",
        "\n",
        "# form the matrix\n",
        "for iX in range(1,MX-1):\n",
        "  A[iX,iX-1] = -r\n",
        "  A[iX,iX] = 2.*(1+r)\n",
        "  A[iX,iX+1] = -r\n",
        "  A = A.tocsr()\n",
        "\n",
        "conc=[]\n",
        "# loop over the time\n",
        "for n in range(1,nT):\n",
        "  # form the right-hand side\n",
        "  for iX in range(1,MX-1):\n",
        "    b[iX] = r*c0[iX-1] + 2*(1.0-r)*c0[iX] + r*c0[iX+1]\n",
        "    \n",
        "  # solve the linear system of equation\n",
        "  c1 = spsolve(A,b)\n",
        "  conc.append(c1)"
      ],
      "execution_count": 1,
      "outputs": [
        {
          "output_type": "stream",
          "text": [
            "/usr/local/lib/python3.6/dist-packages/scipy/sparse/_index.py:84: SparseEfficiencyWarning: Changing the sparsity structure of a csr_matrix is expensive. lil_matrix is more efficient.\n",
            "  self._set_intXint(row, col, x.flat[0])\n"
          ],
          "name": "stderr"
        }
      ]
    },
    {
      "cell_type": "code",
      "metadata": {
        "id": "TZ_ddyXkPOpb",
        "colab_type": "code",
        "colab": {
          "base_uri": "https://localhost:8080/",
          "height": 283
        },
        "outputId": "e17c8f62-ba70-4faa-8003-2dfe1fa5cd86"
      },
      "source": [
        "plt.plot(X,c1)"
      ],
      "execution_count": 2,
      "outputs": [
        {
          "output_type": "execute_result",
          "data": {
            "text/plain": [
              "[<matplotlib.lines.Line2D at 0x7f3a0ba694a8>]"
            ]
          },
          "metadata": {
            "tags": []
          },
          "execution_count": 2
        },
        {
          "output_type": "display_data",
          "data": {
            "image/png": "[encoded data removed]",
            "text/plain": [
              "<Figure size 432x288 with 1 Axes>"
            ]
          },
          "metadata": {
            "tags": [],
            "needs_background": "light"
          }
        }
      ]
    },
    {
      "cell_type": "code",
      "metadata": {
        "id": "VwyKiqveP_CJ",
        "colab_type": "code",
        "colab": {
          "base_uri": "https://localhost:8080/",
          "height": 265
        },
        "outputId": "6ff59475-84ce-4a9c-8ad7-49b391f43f94"
      },
      "source": [
        "for i in range(nT-1):\n",
        "  y=np.array(conc)\n",
        "  plt.plot(X,y[i,:])"
      ],
      "execution_count": 6,
      "outputs": [
        {
          "output_type": "display_data",
          "data": {
            "image/png": "[encoded data removed]",
            "text/plain": [
              "<Figure size 432x288 with 1 Axes>"
            ]
          },
          "metadata": {
            "tags": [],
            "needs_background": "light"
          }
        }
      ]
    },
    {
      "cell_type": "code",
      "metadata": {
        "id": "HZR45s9GRUkQ",
        "colab_type": "code",
        "colab": {
          "base_uri": "https://localhost:8080/",
          "height": 72
        },
        "outputId": "5b77bb37-52e8-48e8-e6b4-182b1e712b64"
      },
      "source": [
        "print(c1)"
      ],
      "execution_count": 7,
      "outputs": [
        {
          "output_type": "stream",
          "text": [
            "[0.         0.6275128  0.93062664 0.98707966 0.99759367 0.99955184\n",
            " 0.99991653 0.99998445 0.9999971  0.99999946 0.9999999  0.99999998\n",
            " 1.         1.         1.         1.        ]\n"
          ],
          "name": "stdout"
        }
      ]
    }
  ]
}